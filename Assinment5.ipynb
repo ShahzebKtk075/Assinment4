{
  "nbformat": 4,
  "nbformat_minor": 0,
  "metadata": {
    "colab": {
      "provenance": [],
      "authorship_tag": "ABX9TyM7zMM0nh1B9UeOL4n994cO",
      "include_colab_link": true
    },
    "kernelspec": {
      "name": "python3",
      "display_name": "Python 3"
    },
    "language_info": {
      "name": "python"
    }
  },
  "cells": [
    {
      "cell_type": "markdown",
      "metadata": {
        "id": "view-in-github",
        "colab_type": "text"
      },
      "source": [
        "<a href=\"https://colab.research.google.com/github/ShahzebKtk075/Assinment4/blob/main/Assinment5.ipynb\" target=\"_parent\"><img src=\"https://colab.research.google.com/assets/colab-badge.svg\" alt=\"Open In Colab\"/></a>"
      ]
    },
    {
      "cell_type": "code",
      "execution_count": null,
      "metadata": {
        "colab": {
          "base_uri": "https://localhost:8080/"
        },
        "id": "mbCLGNFmXa5z",
        "outputId": "99bdc192-7ead-416d-976c-98cdb0402d93"
      },
      "outputs": [
        {
          "output_type": "stream",
          "name": "stdout",
          "text": [
            "Enter a list of integers:  2,3,6,5,7,3,8,9,2\n",
            "Smallest number: 2\n",
            "Largest number: 9\n"
          ]
        }
      ],
      "source": [
        "#Q1: Find the smallest & largest number using comma separated user input.\n",
        "\n",
        "# Get input from the user\n",
        "user_input = input(\"Enter a list of integers:  \")\n",
        "\n",
        "# Convert the input string into a list of integers\n",
        "numbers = [int(x.strip()) for x in user_input.split(\",\")]\n",
        "\n",
        "# Initialize the smallest and largest with the first element\n",
        "smallest = numbers[0]\n",
        "largest = numbers[0]\n",
        "\n",
        "# Loop through the list to find smallest and largest\n",
        "for num in numbers:\n",
        "    if num < smallest:\n",
        "        smallest = num\n",
        "    if num > largest:\n",
        "        largest = num\n",
        "\n",
        "# Display the results\n",
        "print(\"Smallest number:\", smallest)\n",
        "print(\"Largest number:\", largest)\n"
      ]
    },
    {
      "cell_type": "code",
      "source": [
        "#2) Write a function that checks if a given string is a palindrome (reads the same forward and backward).\n",
        "#Use this function to filter a list of strings, keeping only the palindromes.\n",
        "#Example: For input [\"madam\", \"racecar\", \"hello\", \"python\"], output should be [\"madam\", \"racecar\"].\n",
        "\n",
        "\n",
        "\n",
        "# Function to check if a string is a palindrome\n",
        "def is_palindrome(s):\n",
        "    return s == s[::-1]\n",
        "\n",
        "# List of strings to filter\n",
        "input_list = [\"madam\", \"racecar\", \"hello\", \"python\"]\n",
        "\n",
        "# Use list comprehension to keep only palindromes\n",
        "palindromes = [word for word in input_list if is_palindrome(word)]\n",
        "\n",
        "# Display the result\n",
        "print(\"Palindromes:\", palindromes)\n"
      ],
      "metadata": {
        "colab": {
          "base_uri": "https://localhost:8080/"
        },
        "id": "GVZKmawzaj3P",
        "outputId": "f66d40d7-8c55-4497-bd48-8f577de66114"
      },
      "execution_count": null,
      "outputs": [
        {
          "output_type": "stream",
          "name": "stdout",
          "text": [
            "Palindromes: ['madam', 'racecar']\n"
          ]
        }
      ]
    },
    {
      "cell_type": "markdown",
      "source": [
        "3) Write a Python program that calculates the Body Mass Index (BMI) using the formula:\n",
        "BMI = weight (kg) / (height (m))²\n",
        "\n",
        "Input: weight in kilograms and height in meters\n",
        "\n",
        "Output: BMI value and category:\n",
        "\n",
        "BMI < 18.5 → Underweight\n",
        "\n",
        "18.5–24.9 → Normal weight\n",
        "\n",
        "25–29.9 → Overweight\n",
        "\n",
        "30 and above → Obese\n",
        "Include input validation and error handling for non-numeric inputs."
      ],
      "metadata": {
        "id": "ftQLKz2TbMeQ"
      }
    },
    {
      "cell_type": "code",
      "source": [
        "def calculate_bmi(weight, height):\n",
        "    bmi = weight / (height ** 2)\n",
        "    return bmi\n",
        "\n",
        "def get_bmi_category(bmi):\n",
        "    if bmi < 18.5:\n",
        "        return \"Underweight\"\n",
        "    elif bmi < 25:\n",
        "        return \"Normal weight\"\n",
        "    elif bmi < 30:\n",
        "        return \"Overweight\"\n",
        "    else:\n",
        "        return \"Obese\"\n",
        "\n",
        "# Input and validation\n",
        "try:\n",
        "    weight = float(input(\"Enter your weight in kilograms: \"))\n",
        "    height = float(input(\"Enter your height in meters: \"))\n",
        "\n",
        "    if weight <= 0 or height <= 0:\n",
        "        print(\"Weight and height must be positive numbers.\")\n",
        "    else:\n",
        "        bmi = calculate_bmi(weight, height)\n",
        "        category = get_bmi_category(bmi)\n",
        "        print(f\"\\nYour BMI is: {bmi:.2f}\")\n",
        "        print(\"BMI Category:\", category)\n",
        "\n",
        "except ValueError:\n",
        "    print(\"Invalid input. Please enter numeric values only.\")\n",
        "\n"
      ],
      "metadata": {
        "colab": {
          "base_uri": "https://localhost:8080/"
        },
        "id": "aVKLjIlWbLHS",
        "outputId": "361f41fa-3067-4784-cc55-76c58ec519db"
      },
      "execution_count": null,
      "outputs": [
        {
          "output_type": "stream",
          "name": "stdout",
          "text": [
            "Enter your weight in kilograms: 65\n",
            "Enter your height in meters: 5.6\n",
            "\n",
            "Your BMI is: 2.07\n",
            "BMI Category: Underweight\n"
          ]
        }
      ]
    },
    {
      "cell_type": "markdown",
      "source": [
        "4) Write a function that checks if a given year is a leap year.\n",
        "Then use this function to print all leap years between two given years (start and end year).\n",
        "A year is a leap year if:\n",
        "\n",
        "It is divisible by 4 and not divisible by 100\n",
        "\n",
        "Or it is divisible by 400"
      ],
      "metadata": {
        "id": "pG3mBOXIckSZ"
      }
    },
    {
      "cell_type": "code",
      "source": [
        "# Function to check if a year is a leap year\n",
        "def is_leap_year(year):\n",
        "    return (year % 4 == 0 and year % 100 != 0) or (year % 400 == 0)\n",
        "\n",
        "# Get start and end years from the user\n",
        "try:\n",
        "    start_year = int(input(\"Enter the start year: \"))\n",
        "    end_year = int(input(\"Enter the end year: \"))\n",
        "\n",
        "    if start_year > end_year:\n",
        "        print(\"Start year should be less than or equal to end year.\")\n",
        "    else:\n",
        "        print(f\"\\nLeap years between {start_year} and {end_year}:\")\n",
        "        for year in range(start_year, end_year + 1):\n",
        "            if is_leap_year(year):\n",
        "                print(year)\n",
        "\n",
        "except ValueError:\n",
        "    print(\"Invalid input. Please enter valid integer years.\")\n"
      ],
      "metadata": {
        "colab": {
          "base_uri": "https://localhost:8080/"
        },
        "id": "Lew4LFQ2ci_e",
        "outputId": "b98a3785-04e1-4d93-8f6c-9e344fb9319c"
      },
      "execution_count": null,
      "outputs": [
        {
          "output_type": "stream",
          "name": "stdout",
          "text": [
            "Enter the start year: 2000\n",
            "Enter the end year: 2024\n",
            "\n",
            "Leap years between 2000 and 2024:\n",
            "2000\n",
            "2004\n",
            "2008\n",
            "2012\n",
            "2016\n",
            "2020\n",
            "2024\n"
          ]
        }
      ]
    },
    {
      "cell_type": "markdown",
      "source": [
        "5) Write a function that takes a string and returns the count of vowels and consonants.\n",
        "Use a loop and conditional statements to differentiate between vowels and consonants.\n",
        "Test the function using user input and display both counts."
      ],
      "metadata": {
        "id": "2jDrZ6WxdPhe"
      }
    },
    {
      "cell_type": "code",
      "source": [
        "def count_vowels_consonants(text):\n",
        "    vowels = \"aeiouAEIOU\"\n",
        "    vowel_count = 0\n",
        "    consonant_count = 0\n",
        "\n",
        "    for char in text:\n",
        "        if char.isalpha():  # Check if the character is a letter\n",
        "            if char in vowels:\n",
        "                vowel_count += 1\n",
        "            else:\n",
        "                consonant_count += 1\n",
        "\n",
        "    return vowel_count, consonant_count\n",
        "\n",
        "# Get input from the user\n",
        "user_input = input(\"Enter a string: \")\n",
        "\n",
        "# Get the counts\n",
        "vowels, consonants = count_vowels_consonants(user_input)\n",
        "\n",
        "# Display the result\n",
        "print(f\"\\nVowels: {vowels}\")\n",
        "print(f\"Consonants: {consonants}\")\n"
      ],
      "metadata": {
        "colab": {
          "base_uri": "https://localhost:8080/"
        },
        "id": "tckSf4vzdRbq",
        "outputId": "ebb1e7f5-8fcf-422e-ef2f-b6de774d1d32"
      },
      "execution_count": null,
      "outputs": [
        {
          "output_type": "stream",
          "name": "stdout",
          "text": [
            "Enter a string: Hi, I am Shahzeb, this is my vowel and consonant program.\n",
            "\n",
            "Vowels: 15\n",
            "Consonants: 29\n"
          ]
        }
      ]
    },
    {
      "cell_type": "markdown",
      "source": [
        "6) Log Analyzer – Count IP Addresses from File\n",
        "Write a Python program that reads a log file where each line starts with an IP address (e.g., 192.168.0.1 - Accessed /home).\n",
        "\n",
        "Count how many times each unique IP address appears.\n",
        "\n",
        "Output the top 3 most frequent IP addresses and their counts.\n",
        "\n",
        "Use a dictionary to store and analyze the data."
      ],
      "metadata": {
        "id": "0vut99qweQBb"
      }
    },
    {
      "cell_type": "code",
      "source": [
        "# Step 1: Upload file in Colab\n",
        "file_path='/content/logfile.txt'\n",
        "from google.colab import files\n",
        "\n",
        "#uploaded = files.upload()  # Upload the 'logfile.txt'\n",
        "\n",
        "# Step 2: Analyze the uploaded file\n",
        "def analyze_log_file(filename):\n",
        "    ip_counts = {}\n",
        "\n",
        "    try:\n",
        "        with open(filename, 'r') as file:\n",
        "            for line in file:\n",
        "                parts = line.strip().split()\n",
        "                if parts:\n",
        "                    ip = parts[0]\n",
        "                    ip_counts[ip] = ip_counts.get(ip, 0) + 1\n",
        "\n",
        "        # Sort and get top 3 IPs\n",
        "        top_ips = sorted(ip_counts.items(), key=lambda x: x[1], reverse=True)[:3]\n",
        "\n",
        "        print(\"\\nTop 3 most frequent IP addresses:\")\n",
        "        for ip, count in top_ips:\n",
        "            print(f\"{ip} - {count} times\")\n",
        "\n",
        "    except Exception as e:\n",
        "        print(\"Error:\", e)\n",
        "\n",
        "# Step 3: Run the function with uploaded file name\n",
        "analyze_log_file('logfile.txt')\n"
      ],
      "metadata": {
        "colab": {
          "base_uri": "https://localhost:8080/"
        },
        "id": "rdyukizbePCp",
        "outputId": "ec307f91-509e-449c-f6f9-9c89ff50e91b"
      },
      "execution_count": null,
      "outputs": [
        {
          "output_type": "stream",
          "name": "stdout",
          "text": [
            "\n",
            "Top 3 most frequent IP addresses:\n",
            "192.168.0.4 - 14 times\n",
            "192.168.0.7 - 14 times\n",
            "192.168.0.1 - 13 times\n"
          ]
        }
      ]
    },
    {
      "cell_type": "markdown",
      "source": [
        "7) Student Marks Processing from File\n",
        "You are given a file students.txt where each line contains:\n",
        "Name, Math, Science, English\n",
        "Example: Ali, 88, 76, 90\n",
        "Write a program that:\n",
        "\n",
        "Reads the file\n",
        "Calculates the average marks for each student\n",
        "Writes the result to a new file averages.txt in the format:\n",
        "Ali: 84.67"
      ],
      "metadata": {
        "id": "RyJWzhwkjEiS"
      }
    },
    {
      "cell_type": "code",
      "source": [
        "# Step 1: Upload the file\n",
        "file_path='/content/students.txt'\n",
        "uploaded = files.upload()  # Upload the 'students.txt'\n",
        "# Step 2: Process student marks\n",
        "def process_student_marks(input_file, output_file):\n",
        "    try:\n",
        "        with open(input_file, 'r') as infile, open(output_file, 'w') as outfile:\n",
        "            for line in infile:\n",
        "                parts = line.strip().split(',')\n",
        "\n",
        "                if len(parts) == 4:\n",
        "                    name = parts[0].strip()\n",
        "                    try:\n",
        "                        marks = list(map(float, parts[1:]))\n",
        "                        average = sum(marks) / len(marks)\n",
        "                        outfile.write(f\"{name}: {average:.2f}\\n\")\n",
        "                    except ValueError:\n",
        "                        print(f\"Invalid marks for student: {line.strip()}\")\n",
        "                else:\n",
        "                    print(f\"Invalid line format: {line.strip()}\")\n",
        "\n",
        "        print(f\"\\nAverages written to '{output_file}' successfully.\")\n",
        "\n",
        "    except Exception as e:\n",
        "        print(\"Error:\", e)\n",
        "\n",
        "# Step 3: Run the function\n",
        "process_student_marks('students.txt', 'averages.txt')\n"
      ],
      "metadata": {
        "id": "G7mIkRAFiBNy",
        "colab": {
          "base_uri": "https://localhost:8080/",
          "height": 107
        },
        "outputId": "32dfaf28-a843-439a-a122-ce75415f9867"
      },
      "execution_count": null,
      "outputs": [
        {
          "output_type": "display_data",
          "data": {
            "text/plain": [
              "<IPython.core.display.HTML object>"
            ],
            "text/html": [
              "\n",
              "     <input type=\"file\" id=\"files-d3b736de-d660-4305-89ed-481b51a26380\" name=\"files[]\" multiple disabled\n",
              "        style=\"border:none\" />\n",
              "     <output id=\"result-d3b736de-d660-4305-89ed-481b51a26380\">\n",
              "      Upload widget is only available when the cell has been executed in the\n",
              "      current browser session. Please rerun this cell to enable.\n",
              "      </output>\n",
              "      <script>// Copyright 2017 Google LLC\n",
              "//\n",
              "// Licensed under the Apache License, Version 2.0 (the \"License\");\n",
              "// you may not use this file except in compliance with the License.\n",
              "// You may obtain a copy of the License at\n",
              "//\n",
              "//      http://www.apache.org/licenses/LICENSE-2.0\n",
              "//\n",
              "// Unless required by applicable law or agreed to in writing, software\n",
              "// distributed under the License is distributed on an \"AS IS\" BASIS,\n",
              "// WITHOUT WARRANTIES OR CONDITIONS OF ANY KIND, either express or implied.\n",
              "// See the License for the specific language governing permissions and\n",
              "// limitations under the License.\n",
              "\n",
              "/**\n",
              " * @fileoverview Helpers for google.colab Python module.\n",
              " */\n",
              "(function(scope) {\n",
              "function span(text, styleAttributes = {}) {\n",
              "  const element = document.createElement('span');\n",
              "  element.textContent = text;\n",
              "  for (const key of Object.keys(styleAttributes)) {\n",
              "    element.style[key] = styleAttributes[key];\n",
              "  }\n",
              "  return element;\n",
              "}\n",
              "\n",
              "// Max number of bytes which will be uploaded at a time.\n",
              "const MAX_PAYLOAD_SIZE = 100 * 1024;\n",
              "\n",
              "function _uploadFiles(inputId, outputId) {\n",
              "  const steps = uploadFilesStep(inputId, outputId);\n",
              "  const outputElement = document.getElementById(outputId);\n",
              "  // Cache steps on the outputElement to make it available for the next call\n",
              "  // to uploadFilesContinue from Python.\n",
              "  outputElement.steps = steps;\n",
              "\n",
              "  return _uploadFilesContinue(outputId);\n",
              "}\n",
              "\n",
              "// This is roughly an async generator (not supported in the browser yet),\n",
              "// where there are multiple asynchronous steps and the Python side is going\n",
              "// to poll for completion of each step.\n",
              "// This uses a Promise to block the python side on completion of each step,\n",
              "// then passes the result of the previous step as the input to the next step.\n",
              "function _uploadFilesContinue(outputId) {\n",
              "  const outputElement = document.getElementById(outputId);\n",
              "  const steps = outputElement.steps;\n",
              "\n",
              "  const next = steps.next(outputElement.lastPromiseValue);\n",
              "  return Promise.resolve(next.value.promise).then((value) => {\n",
              "    // Cache the last promise value to make it available to the next\n",
              "    // step of the generator.\n",
              "    outputElement.lastPromiseValue = value;\n",
              "    return next.value.response;\n",
              "  });\n",
              "}\n",
              "\n",
              "/**\n",
              " * Generator function which is called between each async step of the upload\n",
              " * process.\n",
              " * @param {string} inputId Element ID of the input file picker element.\n",
              " * @param {string} outputId Element ID of the output display.\n",
              " * @return {!Iterable<!Object>} Iterable of next steps.\n",
              " */\n",
              "function* uploadFilesStep(inputId, outputId) {\n",
              "  const inputElement = document.getElementById(inputId);\n",
              "  inputElement.disabled = false;\n",
              "\n",
              "  const outputElement = document.getElementById(outputId);\n",
              "  outputElement.innerHTML = '';\n",
              "\n",
              "  const pickedPromise = new Promise((resolve) => {\n",
              "    inputElement.addEventListener('change', (e) => {\n",
              "      resolve(e.target.files);\n",
              "    });\n",
              "  });\n",
              "\n",
              "  const cancel = document.createElement('button');\n",
              "  inputElement.parentElement.appendChild(cancel);\n",
              "  cancel.textContent = 'Cancel upload';\n",
              "  const cancelPromise = new Promise((resolve) => {\n",
              "    cancel.onclick = () => {\n",
              "      resolve(null);\n",
              "    };\n",
              "  });\n",
              "\n",
              "  // Wait for the user to pick the files.\n",
              "  const files = yield {\n",
              "    promise: Promise.race([pickedPromise, cancelPromise]),\n",
              "    response: {\n",
              "      action: 'starting',\n",
              "    }\n",
              "  };\n",
              "\n",
              "  cancel.remove();\n",
              "\n",
              "  // Disable the input element since further picks are not allowed.\n",
              "  inputElement.disabled = true;\n",
              "\n",
              "  if (!files) {\n",
              "    return {\n",
              "      response: {\n",
              "        action: 'complete',\n",
              "      }\n",
              "    };\n",
              "  }\n",
              "\n",
              "  for (const file of files) {\n",
              "    const li = document.createElement('li');\n",
              "    li.append(span(file.name, {fontWeight: 'bold'}));\n",
              "    li.append(span(\n",
              "        `(${file.type || 'n/a'}) - ${file.size} bytes, ` +\n",
              "        `last modified: ${\n",
              "            file.lastModifiedDate ? file.lastModifiedDate.toLocaleDateString() :\n",
              "                                    'n/a'} - `));\n",
              "    const percent = span('0% done');\n",
              "    li.appendChild(percent);\n",
              "\n",
              "    outputElement.appendChild(li);\n",
              "\n",
              "    const fileDataPromise = new Promise((resolve) => {\n",
              "      const reader = new FileReader();\n",
              "      reader.onload = (e) => {\n",
              "        resolve(e.target.result);\n",
              "      };\n",
              "      reader.readAsArrayBuffer(file);\n",
              "    });\n",
              "    // Wait for the data to be ready.\n",
              "    let fileData = yield {\n",
              "      promise: fileDataPromise,\n",
              "      response: {\n",
              "        action: 'continue',\n",
              "      }\n",
              "    };\n",
              "\n",
              "    // Use a chunked sending to avoid message size limits. See b/62115660.\n",
              "    let position = 0;\n",
              "    do {\n",
              "      const length = Math.min(fileData.byteLength - position, MAX_PAYLOAD_SIZE);\n",
              "      const chunk = new Uint8Array(fileData, position, length);\n",
              "      position += length;\n",
              "\n",
              "      const base64 = btoa(String.fromCharCode.apply(null, chunk));\n",
              "      yield {\n",
              "        response: {\n",
              "          action: 'append',\n",
              "          file: file.name,\n",
              "          data: base64,\n",
              "        },\n",
              "      };\n",
              "\n",
              "      let percentDone = fileData.byteLength === 0 ?\n",
              "          100 :\n",
              "          Math.round((position / fileData.byteLength) * 100);\n",
              "      percent.textContent = `${percentDone}% done`;\n",
              "\n",
              "    } while (position < fileData.byteLength);\n",
              "  }\n",
              "\n",
              "  // All done.\n",
              "  yield {\n",
              "    response: {\n",
              "      action: 'complete',\n",
              "    }\n",
              "  };\n",
              "}\n",
              "\n",
              "scope.google = scope.google || {};\n",
              "scope.google.colab = scope.google.colab || {};\n",
              "scope.google.colab._files = {\n",
              "  _uploadFiles,\n",
              "  _uploadFilesContinue,\n",
              "};\n",
              "})(self);\n",
              "</script> "
            ]
          },
          "metadata": {}
        },
        {
          "output_type": "stream",
          "name": "stdout",
          "text": [
            "Saving students.txt to students (1).txt\n",
            "\n",
            "Averages written to 'averages.txt' successfully.\n"
          ]
        }
      ]
    },
    {
      "cell_type": "markdown",
      "source": [
        "8) File Cleaner – Remove Duplicates and Empty Lines\n",
        "Write a program that reads a file, removes:\n",
        "\n",
        "Duplicate lines\n",
        "Empty or whitespace-only lines\n",
        "Then writes the cleaned content into a new file named cleaned.txt."
      ],
      "metadata": {
        "id": "Do3_9u_wlN7G"
      }
    },
    {
      "cell_type": "code",
      "source": [
        "# Step 1: Upload the file to clean\n",
        "file_path='/content/raw_data.txt'\n",
        "uploaded = files.upload()  # Upload your file, e.g., 'raw_data.txt'\n",
        "\n",
        "# Step 2: Clean the file\n",
        "def clean_file(input_file, output_file):\n",
        "    try:\n",
        "        seen_lines = set()\n",
        "        with open(input_file, 'r') as infile, open(output_file, 'w') as outfile:\n",
        "            for line in infile:\n",
        "                cleaned_line = line.strip()\n",
        "                if cleaned_line and cleaned_line not in seen_lines:\n",
        "                    outfile.write(cleaned_line + '\\n')\n",
        "                    seen_lines.add(cleaned_line)\n",
        "\n",
        "        print(f\"Cleaned content written to '{output_file}' successfully.\")\n",
        "\n",
        "    except Exception as e:\n",
        "        print(\"Error:\", e)\n",
        "\n",
        "# Step 3: Run the function\n",
        "clean_file('raw_data.txt', 'cleaned.txt')  # Replace 'raw_data.txt' with your uploaded file name\n"
      ],
      "metadata": {
        "colab": {
          "base_uri": "https://localhost:8080/",
          "height": 90
        },
        "id": "aiRRs2j_lSdk",
        "outputId": "02d204d6-dba4-4ff9-946e-14c7c35f4d3e"
      },
      "execution_count": null,
      "outputs": [
        {
          "output_type": "display_data",
          "data": {
            "text/plain": [
              "<IPython.core.display.HTML object>"
            ],
            "text/html": [
              "\n",
              "     <input type=\"file\" id=\"files-69a04f90-7412-4111-8fc6-bcbe1c648265\" name=\"files[]\" multiple disabled\n",
              "        style=\"border:none\" />\n",
              "     <output id=\"result-69a04f90-7412-4111-8fc6-bcbe1c648265\">\n",
              "      Upload widget is only available when the cell has been executed in the\n",
              "      current browser session. Please rerun this cell to enable.\n",
              "      </output>\n",
              "      <script>// Copyright 2017 Google LLC\n",
              "//\n",
              "// Licensed under the Apache License, Version 2.0 (the \"License\");\n",
              "// you may not use this file except in compliance with the License.\n",
              "// You may obtain a copy of the License at\n",
              "//\n",
              "//      http://www.apache.org/licenses/LICENSE-2.0\n",
              "//\n",
              "// Unless required by applicable law or agreed to in writing, software\n",
              "// distributed under the License is distributed on an \"AS IS\" BASIS,\n",
              "// WITHOUT WARRANTIES OR CONDITIONS OF ANY KIND, either express or implied.\n",
              "// See the License for the specific language governing permissions and\n",
              "// limitations under the License.\n",
              "\n",
              "/**\n",
              " * @fileoverview Helpers for google.colab Python module.\n",
              " */\n",
              "(function(scope) {\n",
              "function span(text, styleAttributes = {}) {\n",
              "  const element = document.createElement('span');\n",
              "  element.textContent = text;\n",
              "  for (const key of Object.keys(styleAttributes)) {\n",
              "    element.style[key] = styleAttributes[key];\n",
              "  }\n",
              "  return element;\n",
              "}\n",
              "\n",
              "// Max number of bytes which will be uploaded at a time.\n",
              "const MAX_PAYLOAD_SIZE = 100 * 1024;\n",
              "\n",
              "function _uploadFiles(inputId, outputId) {\n",
              "  const steps = uploadFilesStep(inputId, outputId);\n",
              "  const outputElement = document.getElementById(outputId);\n",
              "  // Cache steps on the outputElement to make it available for the next call\n",
              "  // to uploadFilesContinue from Python.\n",
              "  outputElement.steps = steps;\n",
              "\n",
              "  return _uploadFilesContinue(outputId);\n",
              "}\n",
              "\n",
              "// This is roughly an async generator (not supported in the browser yet),\n",
              "// where there are multiple asynchronous steps and the Python side is going\n",
              "// to poll for completion of each step.\n",
              "// This uses a Promise to block the python side on completion of each step,\n",
              "// then passes the result of the previous step as the input to the next step.\n",
              "function _uploadFilesContinue(outputId) {\n",
              "  const outputElement = document.getElementById(outputId);\n",
              "  const steps = outputElement.steps;\n",
              "\n",
              "  const next = steps.next(outputElement.lastPromiseValue);\n",
              "  return Promise.resolve(next.value.promise).then((value) => {\n",
              "    // Cache the last promise value to make it available to the next\n",
              "    // step of the generator.\n",
              "    outputElement.lastPromiseValue = value;\n",
              "    return next.value.response;\n",
              "  });\n",
              "}\n",
              "\n",
              "/**\n",
              " * Generator function which is called between each async step of the upload\n",
              " * process.\n",
              " * @param {string} inputId Element ID of the input file picker element.\n",
              " * @param {string} outputId Element ID of the output display.\n",
              " * @return {!Iterable<!Object>} Iterable of next steps.\n",
              " */\n",
              "function* uploadFilesStep(inputId, outputId) {\n",
              "  const inputElement = document.getElementById(inputId);\n",
              "  inputElement.disabled = false;\n",
              "\n",
              "  const outputElement = document.getElementById(outputId);\n",
              "  outputElement.innerHTML = '';\n",
              "\n",
              "  const pickedPromise = new Promise((resolve) => {\n",
              "    inputElement.addEventListener('change', (e) => {\n",
              "      resolve(e.target.files);\n",
              "    });\n",
              "  });\n",
              "\n",
              "  const cancel = document.createElement('button');\n",
              "  inputElement.parentElement.appendChild(cancel);\n",
              "  cancel.textContent = 'Cancel upload';\n",
              "  const cancelPromise = new Promise((resolve) => {\n",
              "    cancel.onclick = () => {\n",
              "      resolve(null);\n",
              "    };\n",
              "  });\n",
              "\n",
              "  // Wait for the user to pick the files.\n",
              "  const files = yield {\n",
              "    promise: Promise.race([pickedPromise, cancelPromise]),\n",
              "    response: {\n",
              "      action: 'starting',\n",
              "    }\n",
              "  };\n",
              "\n",
              "  cancel.remove();\n",
              "\n",
              "  // Disable the input element since further picks are not allowed.\n",
              "  inputElement.disabled = true;\n",
              "\n",
              "  if (!files) {\n",
              "    return {\n",
              "      response: {\n",
              "        action: 'complete',\n",
              "      }\n",
              "    };\n",
              "  }\n",
              "\n",
              "  for (const file of files) {\n",
              "    const li = document.createElement('li');\n",
              "    li.append(span(file.name, {fontWeight: 'bold'}));\n",
              "    li.append(span(\n",
              "        `(${file.type || 'n/a'}) - ${file.size} bytes, ` +\n",
              "        `last modified: ${\n",
              "            file.lastModifiedDate ? file.lastModifiedDate.toLocaleDateString() :\n",
              "                                    'n/a'} - `));\n",
              "    const percent = span('0% done');\n",
              "    li.appendChild(percent);\n",
              "\n",
              "    outputElement.appendChild(li);\n",
              "\n",
              "    const fileDataPromise = new Promise((resolve) => {\n",
              "      const reader = new FileReader();\n",
              "      reader.onload = (e) => {\n",
              "        resolve(e.target.result);\n",
              "      };\n",
              "      reader.readAsArrayBuffer(file);\n",
              "    });\n",
              "    // Wait for the data to be ready.\n",
              "    let fileData = yield {\n",
              "      promise: fileDataPromise,\n",
              "      response: {\n",
              "        action: 'continue',\n",
              "      }\n",
              "    };\n",
              "\n",
              "    // Use a chunked sending to avoid message size limits. See b/62115660.\n",
              "    let position = 0;\n",
              "    do {\n",
              "      const length = Math.min(fileData.byteLength - position, MAX_PAYLOAD_SIZE);\n",
              "      const chunk = new Uint8Array(fileData, position, length);\n",
              "      position += length;\n",
              "\n",
              "      const base64 = btoa(String.fromCharCode.apply(null, chunk));\n",
              "      yield {\n",
              "        response: {\n",
              "          action: 'append',\n",
              "          file: file.name,\n",
              "          data: base64,\n",
              "        },\n",
              "      };\n",
              "\n",
              "      let percentDone = fileData.byteLength === 0 ?\n",
              "          100 :\n",
              "          Math.round((position / fileData.byteLength) * 100);\n",
              "      percent.textContent = `${percentDone}% done`;\n",
              "\n",
              "    } while (position < fileData.byteLength);\n",
              "  }\n",
              "\n",
              "  // All done.\n",
              "  yield {\n",
              "    response: {\n",
              "      action: 'complete',\n",
              "    }\n",
              "  };\n",
              "}\n",
              "\n",
              "scope.google = scope.google || {};\n",
              "scope.google.colab = scope.google.colab || {};\n",
              "scope.google.colab._files = {\n",
              "  _uploadFiles,\n",
              "  _uploadFilesContinue,\n",
              "};\n",
              "})(self);\n",
              "</script> "
            ]
          },
          "metadata": {}
        },
        {
          "output_type": "stream",
          "name": "stdout",
          "text": [
            "Saving raw_data.txt to raw_data (1).txt\n",
            "Cleaned content written to 'cleaned.txt' successfully.\n"
          ]
        }
      ]
    }
  ]
}