{
  "nbformat": 4,
  "nbformat_minor": 0,
  "metadata": {
    "colab": {
      "provenance": []
    },
    "kernelspec": {
      "name": "python3",
      "display_name": "Python 3"
    },
    "language_info": {
      "name": "python"
    }
  },
  "cells": [
    {
      "cell_type": "code",
      "execution_count": 11,
      "metadata": {
        "colab": {
          "base_uri": "https://localhost:8080/"
        },
        "id": "O-H8ark3wkjb",
        "outputId": "151e75e5-1169-4774-ba24-f83684a5f31c"
      },
      "outputs": [
        {
          "output_type": "stream",
          "name": "stdout",
          "text": [
            "Original List: [9, 3, 1, 5, 4]\n",
            "Sorted List: [1, 3, 4, 5, 9]\n"
          ]
        }
      ],
      "source": [
        "# Question 1: Insertion Sort Function__\n",
        "# Write a Python function insertion_sort(arr) that sorts a list of integers using the insertion sort algorithm.\n",
        "# Demonstrate the working of this function with an example list.\n",
        "\n",
        "original_list = [9, 3, 1, 5, 4]\n",
        "\n",
        "def insertion_sort(arr):\n",
        "    for i in range(1, len(arr)):\n",
        "        key = arr[i]  # Element to be inserted\n",
        "        j = i - 1\n",
        "        # Move elements of arr[0..i-1], that are greater than key, to one position ahead\n",
        "        while j >= 0 and arr[j] > key:\n",
        "            arr[j + 1] = arr[j]  # Shift element to right\n",
        "            j -= 1\n",
        "        arr[j + 1] = key  # Place key at correct position\n",
        "    return arr\n",
        "\n",
        "print(\"Original List:\", original_list)\n",
        "sorted_list = insertion_sort(original_list)\n",
        "print(\"Sorted List:\", sorted_list)"
      ]
    },
    {
      "source": [
        "#Q2:\n",
        "\n",
        "def insertion_sort(students):\n",
        "    for i in range(1, len(students)):\n",
        "        key = students[i]\n",
        "        j = i - 1\n",
        "        # Sort by marks in descending order\n",
        "        while j >= 0 and students[j][1] < key[1]:\n",
        "            students[j + 1] = students[j]\n",
        "            j -= 1\n",
        "        students[j + 1] = key\n",
        "    return students\n",
        "\n",
        "# Input: List of students\n",
        "students = []\n",
        "\n",
        "# We will take exactly 10 inputs for students\n",
        "num_students_to_collect = 10\n",
        "\n",
        "print(f\"Enter details for {num_students_to_collect} students:\")\n",
        "\n",
        "for _ in range(num_students_to_collect):\n",
        "    name = input(\"Enter student name: \")\n",
        "    marks = float(input(\"Enter student marks: \"))\n",
        "    students.append((name, marks))\n",
        "\n",
        "# Sort students by marks\n",
        "sorted_students = insertion_sort(students)\n",
        "\n",
        "# Display top 3 performers\n",
        "print(\"\\n🎓 Top 3 Performers:\")\n",
        "for i in range(min(3, len(sorted_students))):\n",
        "    print(f\"{i+1}. {sorted_students[i][0]} - {sorted_students[i][1]}\")"
      ],
      "cell_type": "code",
      "metadata": {
        "colab": {
          "base_uri": "https://localhost:8080/"
        },
        "id": "4wL1GlPy26MH",
        "outputId": "b261862e-c95c-42ab-d7da-e02f95775e6d"
      },
      "execution_count": 15,
      "outputs": [
        {
          "output_type": "stream",
          "name": "stdout",
          "text": [
            "Enter details for 5 students:\n",
            "Enter student name: Shahzeb\n",
            "Enter student marks: 97\n",
            "Enter student name: Hamza\n",
            "Enter student marks: 91\n",
            "Enter student name: Ali\n",
            "Enter student marks: 95\n",
            "Enter student name: Sara\n",
            "Enter student marks: 89\n",
            "Enter student name: Haris\n",
            "Enter student marks: 93\n",
            "\n",
            "🎓 Top 3 Performers:\n",
            "1. Shahzeb - 97.0\n",
            "2. Ali - 95.0\n",
            "3. Haris - 93.0\n"
          ]
        }
      ]
    },
    {
      "cell_type": "code",
      "source": [
        "# Q3:\n",
        "\n",
        "def calculate_unit_charge(units):\n",
        "    if units <= 100:\n",
        "        return units * 9.43\n",
        "    elif units <= 200:\n",
        "        return (100 * 9.43) + (units - 100) * 10.29\n",
        "    elif units <= 300:\n",
        "        return (100 * 9.43) + (100 * 10.29) + (units - 200) * 12.43\n",
        "    elif units <= 400:\n",
        "        return (100 * 9.43) + (100 * 10.29) + (100 * 12.43) + (units - 300) * 14.43\n",
        "    elif units <= 500:\n",
        "        return (100 * 9.43) + (100 * 10.29) + (100 * 12.43) + (100 * 14.43) + (units - 400) * 16.43\n",
        "    elif units <= 600:\n",
        "        return (100 * 9.43) + (100 * 10.29) + (100 * 12.43) + (100 * 14.43) + (100 * 16.43) + (units - 500) * 18.43\n",
        "    elif units <= 700:\n",
        "        return (100 * 9.43) + (100 * 10.29) + (100 * 12.43) + (100 * 14.43) + (100 * 16.43) + (100 * 18.43) + (units - 600) * 20.43\n",
        "    else:\n",
        "        return (100 * 9.43) + (100 * 10.29) + (100 * 12.43) + (100 * 14.43) + (100 * 16.43) + (100 * 18.43) + (100 * 20.43) + (units - 700) * 22.43\n",
        "\n",
        "def calculate_bill(units, tv_count):\n",
        "    # Charges\n",
        "    electricity_charges = calculate_unit_charge(units)\n",
        "    duty = electricity_charges * 0.015\n",
        "    tv_fees = tv_count * 35\n",
        "    fuel_cost = units * 3.7\n",
        "\n",
        "    # Pre-tax total\n",
        "    pre_tax_total = electricity_charges + duty + tv_fees + fuel_cost\n",
        "\n",
        "    # Sales tax (only if pre-tax total > 25,000)\n",
        "    sales_tax = 0\n",
        "    if pre_tax_total > 25000:\n",
        "        sales_tax = pre_tax_total * 0.075\n",
        "\n",
        "    # Final bill\n",
        "    total_bill = pre_tax_total + sales_tax\n",
        "\n",
        "    return {\n",
        "        \"Electricity Charges\": round(electricity_charges, 2),\n",
        "        \"Electricity Duty\": round(duty, 2),\n",
        "        \"TV Fees\": round(tv_fees, 2),\n",
        "        \"Fuel Cost\": round(fuel_cost, 2),\n",
        "        \"Sales Tax\": round(sales_tax, 2),\n",
        "        \"Total Bill\": round(total_bill, 2)\n",
        "    }\n",
        "\n",
        "# ----- INPUT -----\n",
        "units = int(input(\"Enter units consumed: \"))\n",
        "tv_count = int(input(\"Enter number of televisions: \"))\n",
        "\n",
        "# ----- CALCULATION -----\n",
        "bill = calculate_bill(units, tv_count)\n",
        "\n",
        "# ----- OUTPUT -----\n",
        "print(\"\\n📋 Monthly Electricity Bill:\")\n",
        "for key, value in bill.items():\n",
        "    print(f\"{key}: Rs. {value}\")\n"
      ],
      "metadata": {
        "colab": {
          "base_uri": "https://localhost:8080/"
        },
        "id": "eRyurP5V42MD",
        "outputId": "36009f72-e999-497e-91ba-53261d7a3d79"
      },
      "execution_count": 16,
      "outputs": [
        {
          "output_type": "stream",
          "name": "stdout",
          "text": [
            "Enter units consumed: 750\n",
            "Enter number of televisions: 1\n",
            "\n",
            "📋 Monthly Electricity Bill:\n",
            "Electricity Charges: Rs. 11308.5\n",
            "Electricity Duty: Rs. 169.63\n",
            "TV Fees: Rs. 35\n",
            "Fuel Cost: Rs. 2775.0\n",
            "Sales Tax: Rs. 0\n",
            "Total Bill: Rs. 14288.13\n"
          ]
        }
      ]
    },
    {
      "cell_type": "code",
      "source": [
        "#Q4:\n",
        "\n",
        "def EUTOS(basophil_percent, spleen_size):\n",
        "    return 7 * basophil_percent + 4 * spleen_size\n",
        "\n",
        "# Input with validation\n",
        "def get_valid_input(prompt, min_val, max_val):\n",
        "    while True:\n",
        "        try:\n",
        "            value = float(input(prompt))\n",
        "            if min_val <= value <= max_val:\n",
        "                return value\n",
        "            else:\n",
        "                print(f\"Please enter a value between {min_val} and {max_val}.\")\n",
        "        except ValueError:\n",
        "            print(\"Invalid input. Please enter a number.\")\n",
        "\n",
        "# Get validated inputs\n",
        "basophil = get_valid_input(\"Enter basophil percentage (0-25): \", 0, 25)\n",
        "spleen = get_valid_input(\"Enter spleen size (0-40): \", 0, 40)\n",
        "\n",
        "# Calculate EUTOS score\n",
        "score = EUTOS(basophil, spleen)\n",
        "\n",
        "# Output result\n",
        "print(f\"\\n EUTOS Score: {score}\")\n",
        "if score > 87:\n",
        "    print(\"🔴 Risk Level: High Risk\")\n",
        "else:\n",
        "    print(\"🟢 Risk Level: Low Risk\")\n"
      ],
      "metadata": {
        "colab": {
          "base_uri": "https://localhost:8080/"
        },
        "id": "e2QPvzSi5gzF",
        "outputId": "92156e4b-23a4-4a8c-9e84-1bd80b3edf6a"
      },
      "execution_count": 19,
      "outputs": [
        {
          "output_type": "stream",
          "name": "stdout",
          "text": [
            "Enter basophil percentage (0-25): 8\n",
            "Enter spleen size (0-40): 6\n",
            "\n",
            " EUTOS Score: 80.0\n",
            "🟢 Risk Level: Low Risk\n"
          ]
        }
      ]
    }
  ]
}